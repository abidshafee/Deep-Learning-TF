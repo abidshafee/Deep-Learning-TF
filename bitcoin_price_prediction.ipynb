{
  "nbformat": 4,
  "nbformat_minor": 0,
  "metadata": {
    "colab": {
      "name": "bitcoin-price prediction.ipynb",
      "provenance": [],
      "authorship_tag": "ABX9TyM9Rs9g3ODn31iSya5mktY5",
      "include_colab_link": true
    },
    "kernelspec": {
      "name": "python3",
      "display_name": "Python 3"
    },
    "language_info": {
      "name": "python"
    }
  },
  "cells": [
    {
      "cell_type": "markdown",
      "metadata": {
        "id": "view-in-github",
        "colab_type": "text"
      },
      "source": [
        "<a href=\"https://colab.research.google.com/github/abidshafee/Deep-Learning-TF/blob/main/bitcoin_price_prediction.ipynb\" target=\"_parent\"><img src=\"https://colab.research.google.com/assets/colab-badge.svg\" alt=\"Open In Colab\"/></a>"
      ]
    },
    {
      "cell_type": "markdown",
      "metadata": {
        "id": "qwfbV9FexI-s"
      },
      "source": [
        "Mocking: https://youtu.be/GFSiL6zEZF0"
      ]
    },
    {
      "cell_type": "code",
      "metadata": {
        "id": "tOmJU1LaxPTC"
      },
      "source": [
        "import numpy as np\n",
        "import matplotlib.pyplot as plt\n",
        "import pandas as pd\n",
        "import pandas_datareader as web\n",
        "import datetime as dt"
      ],
      "execution_count": 1,
      "outputs": []
    },
    {
      "cell_type": "code",
      "metadata": {
        "id": "EIYHNIDAx5OY"
      },
      "source": [
        "# libraries for ML Modeling\n",
        "from sklearn.preprocessing import StandardScaler\n",
        "from tensorflow.keras.layers import Dense, Dropout, LSTM\n",
        "from tensorflow.keras.models import Sequential"
      ],
      "execution_count": 2,
      "outputs": []
    },
    {
      "cell_type": "code",
      "metadata": {
        "id": "J66s5jWsyoCa"
      },
      "source": [
        "# for bitcoin ticker symbol: BTC\n",
        "cryptocurrency = 'BTC'\n",
        "price_in_usd = 'USD'"
      ],
      "execution_count": 5,
      "outputs": []
    },
    {
      "cell_type": "code",
      "metadata": {
        "id": "vMtP1XW0y0rD"
      },
      "source": [
        "starting_from = dt.datetime(2011,1,1)\n",
        "end = dt.datetime.now()"
      ],
      "execution_count": 6,
      "outputs": []
    },
    {
      "cell_type": "code",
      "metadata": {
        "id": "CGK8bjtV0-l-"
      },
      "source": [
        "# reading data from yahoo finance api\n",
        "df = web.DataReader(f'{cryptocurrency}-{price_in_usd}', 'yahoo', starting_from, end)"
      ],
      "execution_count": 11,
      "outputs": []
    },
    {
      "cell_type": "code",
      "metadata": {
        "colab": {
          "base_uri": "https://localhost:8080/",
          "height": 235
        },
        "id": "EzzxFHtC1x3F",
        "outputId": "130a1764-3717-412b-e77f-99d18abc6e39"
      },
      "source": [
        "df.head()"
      ],
      "execution_count": 12,
      "outputs": [
        {
          "output_type": "execute_result",
          "data": {
            "text/html": [
              "<div>\n",
              "<style scoped>\n",
              "    .dataframe tbody tr th:only-of-type {\n",
              "        vertical-align: middle;\n",
              "    }\n",
              "\n",
              "    .dataframe tbody tr th {\n",
              "        vertical-align: top;\n",
              "    }\n",
              "\n",
              "    .dataframe thead th {\n",
              "        text-align: right;\n",
              "    }\n",
              "</style>\n",
              "<table border=\"1\" class=\"dataframe\">\n",
              "  <thead>\n",
              "    <tr style=\"text-align: right;\">\n",
              "      <th></th>\n",
              "      <th>High</th>\n",
              "      <th>Low</th>\n",
              "      <th>Open</th>\n",
              "      <th>Close</th>\n",
              "      <th>Volume</th>\n",
              "      <th>Adj Close</th>\n",
              "    </tr>\n",
              "    <tr>\n",
              "      <th>Date</th>\n",
              "      <th></th>\n",
              "      <th></th>\n",
              "      <th></th>\n",
              "      <th></th>\n",
              "      <th></th>\n",
              "      <th></th>\n",
              "    </tr>\n",
              "  </thead>\n",
              "  <tbody>\n",
              "    <tr>\n",
              "      <th>2014-09-16</th>\n",
              "      <td>468.174011</td>\n",
              "      <td>452.421997</td>\n",
              "      <td>465.864014</td>\n",
              "      <td>457.334015</td>\n",
              "      <td>21056800.0</td>\n",
              "      <td>457.334015</td>\n",
              "    </tr>\n",
              "    <tr>\n",
              "      <th>2014-09-17</th>\n",
              "      <td>456.859985</td>\n",
              "      <td>413.104004</td>\n",
              "      <td>456.859985</td>\n",
              "      <td>424.440002</td>\n",
              "      <td>34483200.0</td>\n",
              "      <td>424.440002</td>\n",
              "    </tr>\n",
              "    <tr>\n",
              "      <th>2014-09-18</th>\n",
              "      <td>427.834991</td>\n",
              "      <td>384.532013</td>\n",
              "      <td>424.102997</td>\n",
              "      <td>394.795990</td>\n",
              "      <td>37919700.0</td>\n",
              "      <td>394.795990</td>\n",
              "    </tr>\n",
              "    <tr>\n",
              "      <th>2014-09-19</th>\n",
              "      <td>423.295990</td>\n",
              "      <td>389.882996</td>\n",
              "      <td>394.673004</td>\n",
              "      <td>408.903992</td>\n",
              "      <td>36863600.0</td>\n",
              "      <td>408.903992</td>\n",
              "    </tr>\n",
              "    <tr>\n",
              "      <th>2014-09-20</th>\n",
              "      <td>412.425995</td>\n",
              "      <td>393.181000</td>\n",
              "      <td>408.084991</td>\n",
              "      <td>398.821014</td>\n",
              "      <td>26580100.0</td>\n",
              "      <td>398.821014</td>\n",
              "    </tr>\n",
              "  </tbody>\n",
              "</table>\n",
              "</div>"
            ],
            "text/plain": [
              "                  High         Low  ...      Volume   Adj Close\n",
              "Date                                ...                        \n",
              "2014-09-16  468.174011  452.421997  ...  21056800.0  457.334015\n",
              "2014-09-17  456.859985  413.104004  ...  34483200.0  424.440002\n",
              "2014-09-18  427.834991  384.532013  ...  37919700.0  394.795990\n",
              "2014-09-19  423.295990  389.882996  ...  36863600.0  408.903992\n",
              "2014-09-20  412.425995  393.181000  ...  26580100.0  398.821014\n",
              "\n",
              "[5 rows x 6 columns]"
            ]
          },
          "metadata": {
            "tags": []
          },
          "execution_count": 12
        }
      ]
    },
    {
      "cell_type": "markdown",
      "metadata": {
        "id": "cocQDhxL3sb9"
      },
      "source": [
        "We are going to predict the **closing price** of this dataset"
      ]
    },
    {
      "cell_type": "code",
      "metadata": {
        "colab": {
          "base_uri": "https://localhost:8080/",
          "height": 297
        },
        "id": "qgapjwY91zFZ",
        "outputId": "0e2afee4-3a3c-4044-ea02-4407afa701fb"
      },
      "source": [
        "df.describe(include='all')"
      ],
      "execution_count": 13,
      "outputs": [
        {
          "output_type": "execute_result",
          "data": {
            "text/html": [
              "<div>\n",
              "<style scoped>\n",
              "    .dataframe tbody tr th:only-of-type {\n",
              "        vertical-align: middle;\n",
              "    }\n",
              "\n",
              "    .dataframe tbody tr th {\n",
              "        vertical-align: top;\n",
              "    }\n",
              "\n",
              "    .dataframe thead th {\n",
              "        text-align: right;\n",
              "    }\n",
              "</style>\n",
              "<table border=\"1\" class=\"dataframe\">\n",
              "  <thead>\n",
              "    <tr style=\"text-align: right;\">\n",
              "      <th></th>\n",
              "      <th>High</th>\n",
              "      <th>Low</th>\n",
              "      <th>Open</th>\n",
              "      <th>Close</th>\n",
              "      <th>Volume</th>\n",
              "      <th>Adj Close</th>\n",
              "    </tr>\n",
              "  </thead>\n",
              "  <tbody>\n",
              "    <tr>\n",
              "      <th>count</th>\n",
              "      <td>2410.000000</td>\n",
              "      <td>2410.000000</td>\n",
              "      <td>2410.000000</td>\n",
              "      <td>2410.000000</td>\n",
              "      <td>2.410000e+03</td>\n",
              "      <td>2410.000000</td>\n",
              "    </tr>\n",
              "    <tr>\n",
              "      <th>mean</th>\n",
              "      <td>7174.184216</td>\n",
              "      <td>6775.281155</td>\n",
              "      <td>6979.358760</td>\n",
              "      <td>7000.288043</td>\n",
              "      <td>1.184997e+10</td>\n",
              "      <td>7000.288043</td>\n",
              "    </tr>\n",
              "    <tr>\n",
              "      <th>std</th>\n",
              "      <td>10880.135592</td>\n",
              "      <td>10193.510295</td>\n",
              "      <td>10553.179678</td>\n",
              "      <td>10592.678323</td>\n",
              "      <td>1.880499e+10</td>\n",
              "      <td>10592.678323</td>\n",
              "    </tr>\n",
              "    <tr>\n",
              "      <th>min</th>\n",
              "      <td>211.731003</td>\n",
              "      <td>171.509995</td>\n",
              "      <td>176.897003</td>\n",
              "      <td>178.102997</td>\n",
              "      <td>5.914570e+06</td>\n",
              "      <td>178.102997</td>\n",
              "    </tr>\n",
              "    <tr>\n",
              "      <th>25%</th>\n",
              "      <td>460.849991</td>\n",
              "      <td>451.166763</td>\n",
              "      <td>455.775002</td>\n",
              "      <td>455.670258</td>\n",
              "      <td>6.778000e+07</td>\n",
              "      <td>455.670258</td>\n",
              "    </tr>\n",
              "    <tr>\n",
              "      <th>50%</th>\n",
              "      <td>4258.724854</td>\n",
              "      <td>4022.102661</td>\n",
              "      <td>4135.651855</td>\n",
              "      <td>4141.202393</td>\n",
              "      <td>3.820230e+09</td>\n",
              "      <td>4141.202393</td>\n",
              "    </tr>\n",
              "    <tr>\n",
              "      <th>75%</th>\n",
              "      <td>9212.655518</td>\n",
              "      <td>8804.000732</td>\n",
              "      <td>8987.596436</td>\n",
              "      <td>9000.924805</td>\n",
              "      <td>1.785064e+10</td>\n",
              "      <td>9000.924805</td>\n",
              "    </tr>\n",
              "    <tr>\n",
              "      <th>max</th>\n",
              "      <td>64863.097656</td>\n",
              "      <td>62208.964844</td>\n",
              "      <td>63523.753906</td>\n",
              "      <td>63503.457031</td>\n",
              "      <td>3.509679e+11</td>\n",
              "      <td>63503.457031</td>\n",
              "    </tr>\n",
              "  </tbody>\n",
              "</table>\n",
              "</div>"
            ],
            "text/plain": [
              "               High           Low  ...        Volume     Adj Close\n",
              "count   2410.000000   2410.000000  ...  2.410000e+03   2410.000000\n",
              "mean    7174.184216   6775.281155  ...  1.184997e+10   7000.288043\n",
              "std    10880.135592  10193.510295  ...  1.880499e+10  10592.678323\n",
              "min      211.731003    171.509995  ...  5.914570e+06    178.102997\n",
              "25%      460.849991    451.166763  ...  6.778000e+07    455.670258\n",
              "50%     4258.724854   4022.102661  ...  3.820230e+09   4141.202393\n",
              "75%     9212.655518   8804.000732  ...  1.785064e+10   9000.924805\n",
              "max    64863.097656  62208.964844  ...  3.509679e+11  63503.457031\n",
              "\n",
              "[8 rows x 6 columns]"
            ]
          },
          "metadata": {
            "tags": []
          },
          "execution_count": 13
        }
      ]
    },
    {
      "cell_type": "markdown",
      "metadata": {
        "id": "LcJ-Nyp04bXR"
      },
      "source": [
        "Scaling data into sandard deviation range"
      ]
    },
    {
      "cell_type": "code",
      "metadata": {
        "colab": {
          "base_uri": "https://localhost:8080/"
        },
        "id": "78oUYBMl5JPe",
        "outputId": "2f003572-365c-4f25-d0aa-7977d5ea0264"
      },
      "source": [
        "df['Close']"
      ],
      "execution_count": 21,
      "outputs": [
        {
          "output_type": "execute_result",
          "data": {
            "text/plain": [
              "Date\n",
              "2014-09-16      457.334015\n",
              "2014-09-17      424.440002\n",
              "2014-09-18      394.795990\n",
              "2014-09-19      408.903992\n",
              "2014-09-20      398.821014\n",
              "                  ...     \n",
              "2021-04-21    51762.273438\n",
              "2021-04-22    51093.652344\n",
              "2021-04-23    50050.867188\n",
              "2021-04-24    49004.253906\n",
              "2021-04-26    53393.511719\n",
              "Name: Close, Length: 2410, dtype: float64"
            ]
          },
          "metadata": {
            "tags": []
          },
          "execution_count": 21
        }
      ]
    },
    {
      "cell_type": "code",
      "metadata": {
        "id": "J4TSL-wA208O"
      },
      "source": [
        "scale = StandardScaler()\n",
        "scaled_data = scale.fit_transform(df['Close'].values.reshape(-1, 1))"
      ],
      "execution_count": 18,
      "outputs": []
    },
    {
      "cell_type": "code",
      "metadata": {
        "colab": {
          "base_uri": "https://localhost:8080/"
        },
        "id": "2hvDZKCC4xdO",
        "outputId": "9acb9943-ab05-496c-eff2-8ff79eb0d28b"
      },
      "source": [
        "len(scaled_data)"
      ],
      "execution_count": 20,
      "outputs": [
        {
          "output_type": "execute_result",
          "data": {
            "text/plain": [
              "2410"
            ]
          },
          "metadata": {
            "tags": []
          },
          "execution_count": 20
        }
      ]
    },
    {
      "cell_type": "code",
      "metadata": {
        "id": "HtT-B2L95hUc"
      },
      "source": [
        ""
      ],
      "execution_count": null,
      "outputs": []
    }
  ]
}