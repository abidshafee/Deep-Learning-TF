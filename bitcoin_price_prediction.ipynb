{
  "nbformat": 4,
  "nbformat_minor": 0,
  "metadata": {
    "colab": {
      "name": "bitcoin-price prediction.ipynb",
      "provenance": [],
      "collapsed_sections": [],
      "authorship_tag": "ABX9TyNzkXVw1+6MAjTLPOXCsj/G",
      "include_colab_link": true
    },
    "kernelspec": {
      "name": "python3",
      "display_name": "Python 3"
    },
    "language_info": {
      "name": "python"
    }
  },
  "cells": [
    {
      "cell_type": "markdown",
      "metadata": {
        "id": "view-in-github",
        "colab_type": "text"
      },
      "source": [
        "<a href=\"https://colab.research.google.com/github/abidshafee/Deep-Learning-TF/blob/main/bitcoin_price_prediction.ipynb\" target=\"_parent\"><img src=\"https://colab.research.google.com/assets/colab-badge.svg\" alt=\"Open In Colab\"/></a>"
      ]
    },
    {
      "cell_type": "markdown",
      "metadata": {
        "id": "qwfbV9FexI-s"
      },
      "source": [
        "Mocking: https://youtu.be/GFSiL6zEZF0 \\\n",
        "https://youtu.be/QIUxPv5PJOY"
      ]
    },
    {
      "cell_type": "code",
      "metadata": {
        "id": "tOmJU1LaxPTC"
      },
      "source": [
        "import numpy as np\n",
        "import matplotlib.pyplot as plt\n",
        "import pandas as pd\n",
        "import pandas_datareader as web\n",
        "import datetime as dt\n",
        "plt.style.use('fivethirtyeight')"
      ],
      "execution_count": 8,
      "outputs": []
    },
    {
      "cell_type": "code",
      "metadata": {
        "id": "EIYHNIDAx5OY"
      },
      "source": [
        "# libraries for ML Modeling\n",
        "from sklearn.preprocessing import StandardScaler\n",
        "from tensorflow.keras.layers import Dense, Dropout, LSTM\n",
        "from tensorflow.keras.models import Sequential"
      ],
      "execution_count": 2,
      "outputs": []
    },
    {
      "cell_type": "code",
      "metadata": {
        "id": "J66s5jWsyoCa"
      },
      "source": [
        "# for bitcoin ticker symbol: BTC\n",
        "cryptocurrency = 'BTC'\n",
        "price_in_usd = 'USD'"
      ],
      "execution_count": 3,
      "outputs": []
    },
    {
      "cell_type": "code",
      "metadata": {
        "id": "vMtP1XW0y0rD",
        "colab": {
          "base_uri": "https://localhost:8080/"
        },
        "outputId": "0e36c2e0-f4d3-4f75-a5f6-60d559be7995"
      },
      "source": [
        "starting_from = dt.datetime(2011,1,1)\n",
        "end = dt.datetime.now()\n",
        "print(end)"
      ],
      "execution_count": 4,
      "outputs": [
        {
          "output_type": "stream",
          "text": [
            "2021-04-28 21:13:23.498214\n"
          ],
          "name": "stdout"
        }
      ]
    },
    {
      "cell_type": "code",
      "metadata": {
        "id": "CGK8bjtV0-l-"
      },
      "source": [
        "# reading data from yahoo finance api\n",
        "#df = web.DataReader(f'{cryptocurrency}-{price_in_usd}', 'yahoo', starting_from, end)\n",
        "\n",
        "#Or we can say\n",
        "df = web.DataReader('BTC-USD', data_source='yahoo', start=starting_from, end=end)\n",
        "# ticker for BTC price in USD: BTC-USD"
      ],
      "execution_count": 5,
      "outputs": []
    },
    {
      "cell_type": "code",
      "metadata": {
        "colab": {
          "base_uri": "https://localhost:8080/",
          "height": 450
        },
        "id": "EzzxFHtC1x3F",
        "outputId": "4fc60f0d-f0e3-4ae4-8c76-3b12ee10f19e"
      },
      "source": [
        "df"
      ],
      "execution_count": 6,
      "outputs": [
        {
          "output_type": "execute_result",
          "data": {
            "text/html": [
              "<div>\n",
              "<style scoped>\n",
              "    .dataframe tbody tr th:only-of-type {\n",
              "        vertical-align: middle;\n",
              "    }\n",
              "\n",
              "    .dataframe tbody tr th {\n",
              "        vertical-align: top;\n",
              "    }\n",
              "\n",
              "    .dataframe thead th {\n",
              "        text-align: right;\n",
              "    }\n",
              "</style>\n",
              "<table border=\"1\" class=\"dataframe\">\n",
              "  <thead>\n",
              "    <tr style=\"text-align: right;\">\n",
              "      <th></th>\n",
              "      <th>High</th>\n",
              "      <th>Low</th>\n",
              "      <th>Open</th>\n",
              "      <th>Close</th>\n",
              "      <th>Volume</th>\n",
              "      <th>Adj Close</th>\n",
              "    </tr>\n",
              "    <tr>\n",
              "      <th>Date</th>\n",
              "      <th></th>\n",
              "      <th></th>\n",
              "      <th></th>\n",
              "      <th></th>\n",
              "      <th></th>\n",
              "      <th></th>\n",
              "    </tr>\n",
              "  </thead>\n",
              "  <tbody>\n",
              "    <tr>\n",
              "      <th>2014-09-16</th>\n",
              "      <td>468.174011</td>\n",
              "      <td>452.421997</td>\n",
              "      <td>465.864014</td>\n",
              "      <td>457.334015</td>\n",
              "      <td>2.105680e+07</td>\n",
              "      <td>457.334015</td>\n",
              "    </tr>\n",
              "    <tr>\n",
              "      <th>2014-09-17</th>\n",
              "      <td>456.859985</td>\n",
              "      <td>413.104004</td>\n",
              "      <td>456.859985</td>\n",
              "      <td>424.440002</td>\n",
              "      <td>3.448320e+07</td>\n",
              "      <td>424.440002</td>\n",
              "    </tr>\n",
              "    <tr>\n",
              "      <th>2014-09-18</th>\n",
              "      <td>427.834991</td>\n",
              "      <td>384.532013</td>\n",
              "      <td>424.102997</td>\n",
              "      <td>394.795990</td>\n",
              "      <td>3.791970e+07</td>\n",
              "      <td>394.795990</td>\n",
              "    </tr>\n",
              "    <tr>\n",
              "      <th>2014-09-19</th>\n",
              "      <td>423.295990</td>\n",
              "      <td>389.882996</td>\n",
              "      <td>394.673004</td>\n",
              "      <td>408.903992</td>\n",
              "      <td>3.686360e+07</td>\n",
              "      <td>408.903992</td>\n",
              "    </tr>\n",
              "    <tr>\n",
              "      <th>2014-09-20</th>\n",
              "      <td>412.425995</td>\n",
              "      <td>393.181000</td>\n",
              "      <td>408.084991</td>\n",
              "      <td>398.821014</td>\n",
              "      <td>2.658010e+07</td>\n",
              "      <td>398.821014</td>\n",
              "    </tr>\n",
              "    <tr>\n",
              "      <th>...</th>\n",
              "      <td>...</td>\n",
              "      <td>...</td>\n",
              "      <td>...</td>\n",
              "      <td>...</td>\n",
              "      <td>...</td>\n",
              "      <td>...</td>\n",
              "    </tr>\n",
              "    <tr>\n",
              "      <th>2021-04-23</th>\n",
              "      <td>51167.562500</td>\n",
              "      <td>48805.285156</td>\n",
              "      <td>51143.226562</td>\n",
              "      <td>50050.867188</td>\n",
              "      <td>4.901449e+10</td>\n",
              "      <td>50050.867188</td>\n",
              "    </tr>\n",
              "    <tr>\n",
              "      <th>2021-04-24</th>\n",
              "      <td>50506.019531</td>\n",
              "      <td>47159.484375</td>\n",
              "      <td>50052.832031</td>\n",
              "      <td>49004.253906</td>\n",
              "      <td>4.611711e+10</td>\n",
              "      <td>49004.253906</td>\n",
              "    </tr>\n",
              "    <tr>\n",
              "      <th>2021-04-25</th>\n",
              "      <td>54288.003906</td>\n",
              "      <td>48852.796875</td>\n",
              "      <td>49077.792969</td>\n",
              "      <td>54021.753906</td>\n",
              "      <td>5.828404e+10</td>\n",
              "      <td>54021.753906</td>\n",
              "    </tr>\n",
              "    <tr>\n",
              "      <th>2021-04-26</th>\n",
              "      <td>55416.964844</td>\n",
              "      <td>53319.187500</td>\n",
              "      <td>54030.304688</td>\n",
              "      <td>55033.117188</td>\n",
              "      <td>4.944822e+10</td>\n",
              "      <td>55033.117188</td>\n",
              "    </tr>\n",
              "    <tr>\n",
              "      <th>2021-04-28</th>\n",
              "      <td>56167.906250</td>\n",
              "      <td>53904.496094</td>\n",
              "      <td>55154.078125</td>\n",
              "      <td>54280.632812</td>\n",
              "      <td>4.750478e+10</td>\n",
              "      <td>54280.632812</td>\n",
              "    </tr>\n",
              "  </tbody>\n",
              "</table>\n",
              "<p>2412 rows × 6 columns</p>\n",
              "</div>"
            ],
            "text/plain": [
              "                    High           Low  ...        Volume     Adj Close\n",
              "Date                                    ...                            \n",
              "2014-09-16    468.174011    452.421997  ...  2.105680e+07    457.334015\n",
              "2014-09-17    456.859985    413.104004  ...  3.448320e+07    424.440002\n",
              "2014-09-18    427.834991    384.532013  ...  3.791970e+07    394.795990\n",
              "2014-09-19    423.295990    389.882996  ...  3.686360e+07    408.903992\n",
              "2014-09-20    412.425995    393.181000  ...  2.658010e+07    398.821014\n",
              "...                  ...           ...  ...           ...           ...\n",
              "2021-04-23  51167.562500  48805.285156  ...  4.901449e+10  50050.867188\n",
              "2021-04-24  50506.019531  47159.484375  ...  4.611711e+10  49004.253906\n",
              "2021-04-25  54288.003906  48852.796875  ...  5.828404e+10  54021.753906\n",
              "2021-04-26  55416.964844  53319.187500  ...  4.944822e+10  55033.117188\n",
              "2021-04-28  56167.906250  53904.496094  ...  4.750478e+10  54280.632812\n",
              "\n",
              "[2412 rows x 6 columns]"
            ]
          },
          "metadata": {
            "tags": []
          },
          "execution_count": 6
        }
      ]
    },
    {
      "cell_type": "code",
      "metadata": {
        "colab": {
          "base_uri": "https://localhost:8080/",
          "height": 474
        },
        "id": "3wrzYK0QVHtD",
        "outputId": "44ad7f85-8256-4032-da12-b51a99d76ae9"
      },
      "source": [
        "plt.figure(figsize=(13, 7.3))\n",
        "plt.plot(df['Close'])\n",
        "plt.show()"
      ],
      "execution_count": 13,
      "outputs": [
        {
          "output_type": "display_data",
          "data": {
            "image/png": "[encoded data removed]",
            "text/plain": [
              "<Figure size 936x525.6 with 1 Axes>"
            ]
          },
          "metadata": {
            "tags": []
          }
        }
      ]
    },
    {
      "cell_type": "markdown",
      "metadata": {
        "id": "cocQDhxL3sb9"
      },
      "source": [
        "We are going to predict the **closing price** of this dataset"
      ]
    },
    {
      "cell_type": "code",
      "metadata": {
        "colab": {
          "base_uri": "https://localhost:8080/",
          "height": 297
        },
        "id": "qgapjwY91zFZ",
        "outputId": "c10a74e4-7451-4d55-a888-4362f4684f9c"
      },
      "source": [
        "df.describe(include='all')"
      ],
      "execution_count": null,
      "outputs": [
        {
          "output_type": "execute_result",
          "data": {
            "text/html": [
              "<div>\n",
              "<style scoped>\n",
              "    .dataframe tbody tr th:only-of-type {\n",
              "        vertical-align: middle;\n",
              "    }\n",
              "\n",
              "    .dataframe tbody tr th {\n",
              "        vertical-align: top;\n",
              "    }\n",
              "\n",
              "    .dataframe thead th {\n",
              "        text-align: right;\n",
              "    }\n",
              "</style>\n",
              "<table border=\"1\" class=\"dataframe\">\n",
              "  <thead>\n",
              "    <tr style=\"text-align: right;\">\n",
              "      <th></th>\n",
              "      <th>High</th>\n",
              "      <th>Low</th>\n",
              "      <th>Open</th>\n",
              "      <th>Close</th>\n",
              "      <th>Volume</th>\n",
              "      <th>Adj Close</th>\n",
              "    </tr>\n",
              "  </thead>\n",
              "  <tbody>\n",
              "    <tr>\n",
              "      <th>count</th>\n",
              "      <td>2412.000000</td>\n",
              "      <td>2412.000000</td>\n",
              "      <td>2412.000000</td>\n",
              "      <td>2412.000000</td>\n",
              "      <td>2.412000e+03</td>\n",
              "      <td>2412.000000</td>\n",
              "    </tr>\n",
              "    <tr>\n",
              "      <th>mean</th>\n",
              "      <td>7214.630924</td>\n",
              "      <td>6814.074383</td>\n",
              "      <td>7018.888945</td>\n",
              "      <td>7040.314968</td>\n",
              "      <td>1.187884e+10</td>\n",
              "      <td>7040.314968</td>\n",
              "    </tr>\n",
              "    <tr>\n",
              "      <th>std</th>\n",
              "      <td>10965.857208</td>\n",
              "      <td>10277.942692</td>\n",
              "      <td>10637.700511</td>\n",
              "      <td>10679.064783</td>\n",
              "      <td>1.882384e+10</td>\n",
              "      <td>10679.064783</td>\n",
              "    </tr>\n",
              "    <tr>\n",
              "      <th>min</th>\n",
              "      <td>211.731003</td>\n",
              "      <td>171.509995</td>\n",
              "      <td>176.897003</td>\n",
              "      <td>178.102997</td>\n",
              "      <td>5.914570e+06</td>\n",
              "      <td>178.102997</td>\n",
              "    </tr>\n",
              "    <tr>\n",
              "      <th>25%</th>\n",
              "      <td>461.199997</td>\n",
              "      <td>451.772263</td>\n",
              "      <td>455.806999</td>\n",
              "      <td>455.670746</td>\n",
              "      <td>6.779840e+07</td>\n",
              "      <td>455.670746</td>\n",
              "    </tr>\n",
              "    <tr>\n",
              "      <th>50%</th>\n",
              "      <td>4266.731201</td>\n",
              "      <td>4023.237671</td>\n",
              "      <td>4137.675049</td>\n",
              "      <td>4147.023438</td>\n",
              "      <td>3.836735e+09</td>\n",
              "      <td>4147.023438</td>\n",
              "    </tr>\n",
              "    <tr>\n",
              "      <th>75%</th>\n",
              "      <td>9215.193359</td>\n",
              "      <td>8807.463135</td>\n",
              "      <td>9017.696289</td>\n",
              "      <td>9044.302979</td>\n",
              "      <td>1.787633e+10</td>\n",
              "      <td>9044.302979</td>\n",
              "    </tr>\n",
              "    <tr>\n",
              "      <th>max</th>\n",
              "      <td>64863.097656</td>\n",
              "      <td>62208.964844</td>\n",
              "      <td>63523.753906</td>\n",
              "      <td>63503.457031</td>\n",
              "      <td>3.509679e+11</td>\n",
              "      <td>63503.457031</td>\n",
              "    </tr>\n",
              "  </tbody>\n",
              "</table>\n",
              "</div>"
            ],
            "text/plain": [
              "               High           Low  ...        Volume     Adj Close\n",
              "count   2412.000000   2412.000000  ...  2.412000e+03   2412.000000\n",
              "mean    7214.630924   6814.074383  ...  1.187884e+10   7040.314968\n",
              "std    10965.857208  10277.942692  ...  1.882384e+10  10679.064783\n",
              "min      211.731003    171.509995  ...  5.914570e+06    178.102997\n",
              "25%      461.199997    451.772263  ...  6.779840e+07    455.670746\n",
              "50%     4266.731201   4023.237671  ...  3.836735e+09   4147.023438\n",
              "75%     9215.193359   8807.463135  ...  1.787633e+10   9044.302979\n",
              "max    64863.097656  62208.964844  ...  3.509679e+11  63503.457031\n",
              "\n",
              "[8 rows x 6 columns]"
            ]
          },
          "metadata": {
            "tags": []
          },
          "execution_count": 8
        }
      ]
    },
    {
      "cell_type": "markdown",
      "metadata": {
        "id": "LcJ-Nyp04bXR"
      },
      "source": [
        "Scaling data into sandard deviation range"
      ]
    },
    {
      "cell_type": "code",
      "metadata": {
        "id": "78oUYBMl5JPe"
      },
      "source": [
        "df['Close']"
      ],
      "execution_count": null,
      "outputs": []
    },
    {
      "cell_type": "markdown",
      "metadata": {
        "id": "LFvkNyiVjitW"
      },
      "source": [
        "Scaling the Target value"
      ]
    },
    {
      "cell_type": "code",
      "metadata": {
        "id": "J4TSL-wA208O"
      },
      "source": [
        "scale = StandardScaler()\n",
        "#Reshape your data either using array.reshape(-1, 1) if your data has a single feature or array.\n",
        "#reshape(1, -1) if it contains a single sample.\n",
        "scaled_data = scale.fit_transform(df['Close'].values.reshape(-1,1))"
      ],
      "execution_count": null,
      "outputs": []
    },
    {
      "cell_type": "code",
      "metadata": {
        "colab": {
          "base_uri": "https://localhost:8080/"
        },
        "id": "2hvDZKCC4xdO",
        "outputId": "8d346d30-26de-492f-9c41-c0ea16a21ecb"
      },
      "source": [
        "len(scaled_data)"
      ],
      "execution_count": null,
      "outputs": [
        {
          "output_type": "execute_result",
          "data": {
            "text/plain": [
              "2412"
            ]
          },
          "metadata": {
            "tags": []
          },
          "execution_count": 15
        }
      ]
    },
    {
      "cell_type": "code",
      "metadata": {
        "id": "HtT-B2L95hUc",
        "colab": {
          "base_uri": "https://localhost:8080/"
        },
        "outputId": "c5e686a1-331c-4976-fe19-5799e317164b"
      },
      "source": [
        "scaled_data"
      ],
      "execution_count": null,
      "outputs": [
        {
          "output_type": "execute_result",
          "data": {
            "text/plain": [
              "array([[-0.61656579],\n",
              "       [-0.61964666],\n",
              "       [-0.62242314],\n",
              "       ...,\n",
              "       [ 4.40030864],\n",
              "       [ 4.49503351],\n",
              "       [ 4.48108211]])"
            ]
          },
          "metadata": {
            "tags": []
          },
          "execution_count": 16
        }
      ]
    },
    {
      "cell_type": "markdown",
      "metadata": {
        "id": "Glhq6I9YFC52"
      },
      "source": [
        "## **To replace multiple values in a column with a single values**:\n",
        "let say we want to replace value-1, value-2, and value-3 from the column-3 with the value: 'replaced_value', So the following code will do that:\n",
        "```\n",
        "values = ['value-1', 'value-2', 'value-3']\n",
        "for val in values:\n",
        "    df['column-3'].replace(to_replace=val,\n",
        "                           value = 'replaced_value',\n",
        "                           inplace = True)\n",
        "\n",
        "```\n",
        "To learn more data analysis techniques read our blog:\n",
        "https://csschoolonline.xyz/data-science/\n",
        "see other parameters supported by -\n",
        "pandas.DataFrame.replace>>\n",
        "https://pandas.pydata.org/.../pandas.DataFrame.replace.html"
      ]
    },
    {
      "cell_type": "code",
      "metadata": {
        "id": "Q3rOSXcvFeI4"
      },
      "source": [
        "pred_days = 60"
      ],
      "execution_count": null,
      "outputs": []
    },
    {
      "cell_type": "code",
      "metadata": {
        "id": "08LOIgzsjZqZ"
      },
      "source": [
        "x_train, y_train = [],[]"
      ],
      "execution_count": null,
      "outputs": []
    },
    {
      "cell_type": "code",
      "metadata": {
        "id": "7eHCyeNVscux"
      },
      "source": [
        "for x in range(pred_days, len(scaled_data)):\n",
        "  x_train.append(scaled_data[x-pred_days:x, 0])\n",
        "  y_train.append(scaled_data[x, 0])"
      ],
      "execution_count": null,
      "outputs": []
    },
    {
      "cell_type": "code",
      "metadata": {
        "colab": {
          "base_uri": "https://localhost:8080/"
        },
        "id": "JHMBPUbwtMJ4",
        "outputId": "899e0e6e-9989-4b9d-bcd0-a5e6c6028a0e"
      },
      "source": [
        "len(x_train)"
      ],
      "execution_count": null,
      "outputs": [
        {
          "output_type": "execute_result",
          "data": {
            "text/plain": [
              "2352"
            ]
          },
          "metadata": {
            "tags": []
          },
          "execution_count": 20
        }
      ]
    },
    {
      "cell_type": "code",
      "metadata": {
        "id": "oQboh0jLtWUs"
      },
      "source": [
        "y_train"
      ],
      "execution_count": null,
      "outputs": []
    },
    {
      "cell_type": "markdown",
      "metadata": {
        "id": "NpUNN6cizndT"
      },
      "source": [
        "Converting data to numpy array"
      ]
    },
    {
      "cell_type": "code",
      "metadata": {
        "id": "vXko-qMUt7uf"
      },
      "source": [
        "x_train = np.array(x_train)\n",
        "y_train = np.array(y_train)"
      ],
      "execution_count": null,
      "outputs": []
    },
    {
      "cell_type": "code",
      "metadata": {
        "colab": {
          "base_uri": "https://localhost:8080/"
        },
        "id": "yuk5eGJCubXi",
        "outputId": "0878cd74-63ed-46ce-939c-c58c771e90fe"
      },
      "source": [
        "x_train"
      ],
      "execution_count": null,
      "outputs": [
        {
          "output_type": "execute_result",
          "data": {
            "text/plain": [
              "array([[-0.61656579, -0.61964666, -0.62242314, ..., -0.61999368,\n",
              "        -0.62214009, -0.62417112],\n",
              "       [-0.61964666, -0.62242314, -0.62110177, ..., -0.62214009,\n",
              "        -0.62417112, -0.62307071],\n",
              "       [-0.62242314, -0.62110177, -0.62204615, ..., -0.62417112,\n",
              "        -0.62307071, -0.6231151 ],\n",
              "       ...,\n",
              "       [ 3.75143732,  3.68080883,  3.66663718, ...,  4.12606096,\n",
              "         4.02839311,  3.9303667 ],\n",
              "       [ 3.68080883,  3.66663718,  3.56822955, ...,  4.02839311,\n",
              "         3.9303667 ,  4.40030864],\n",
              "       [ 3.66663718,  3.56822955,  3.98909079, ...,  3.9303667 ,\n",
              "         4.40030864,  4.49503351]])"
            ]
          },
          "metadata": {
            "tags": []
          },
          "execution_count": 24
        }
      ]
    },
    {
      "cell_type": "code",
      "metadata": {
        "colab": {
          "base_uri": "https://localhost:8080/"
        },
        "id": "pkgKuvo1udNz",
        "outputId": "f861a0db-cb07-41cc-d233-eec8f3857a86"
      },
      "source": [
        "y_train"
      ],
      "execution_count": null,
      "outputs": [
        {
          "output_type": "execute_result",
          "data": {
            "text/plain": [
              "array([-0.62307071, -0.6231151 , -0.6242587 , ...,  4.40030864,\n",
              "        4.49503351,  4.48108211])"
            ]
          },
          "metadata": {
            "tags": []
          },
          "execution_count": 26
        }
      ]
    },
    {
      "cell_type": "markdown",
      "metadata": {
        "id": "6osidgr6zyja"
      },
      "source": [
        "### **Deep Modeling**"
      ]
    },
    {
      "cell_type": "code",
      "metadata": {
        "id": "soQzPikFuofG"
      },
      "source": [
        "model = Sequential()"
      ],
      "execution_count": null,
      "outputs": []
    },
    {
      "cell_type": "code",
      "metadata": {
        "id": "E0Wn9Vfzz9yC"
      },
      "source": [
        ""
      ],
      "execution_count": null,
      "outputs": []
    }
  ]
}