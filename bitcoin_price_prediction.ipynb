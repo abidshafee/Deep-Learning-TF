{
  "nbformat": 4,
  "nbformat_minor": 0,
  "metadata": {
    "colab": {
      "name": "bitcoin-price prediction.ipynb",
      "provenance": [],
      "authorship_tag": "ABX9TyOq+Jsvpji37mOaIqp+Fukc",
      "include_colab_link": true
    },
    "kernelspec": {
      "name": "python3",
      "display_name": "Python 3"
    },
    "language_info": {
      "name": "python"
    }
  },
  "cells": [
    {
      "cell_type": "markdown",
      "metadata": {
        "id": "view-in-github",
        "colab_type": "text"
      },
      "source": [
        "<a href=\"https://colab.research.google.com/github/abidshafee/Deep-Learning-TF/blob/main/bitcoin_price_prediction.ipynb\" target=\"_parent\"><img src=\"https://colab.research.google.com/assets/colab-badge.svg\" alt=\"Open In Colab\"/></a>"
      ]
    },
    {
      "cell_type": "markdown",
      "metadata": {
        "id": "qwfbV9FexI-s"
      },
      "source": [
        "Mocking: https://youtu.be/GFSiL6zEZF0"
      ]
    },
    {
      "cell_type": "code",
      "metadata": {
        "id": "tOmJU1LaxPTC"
      },
      "source": [
        "import numpy as np\n",
        "import matplotlib.pyplot as plt\n",
        "import pandas as pd\n",
        "import pandas_datareader as web\n",
        "import datetime as dt"
      ],
      "execution_count": 1,
      "outputs": []
    },
    {
      "cell_type": "code",
      "metadata": {
        "id": "EIYHNIDAx5OY"
      },
      "source": [
        "# libraries for ML Modeling\n",
        "from sklearn.preprocessing import StandardScaler\n",
        "from tensorflow.keras.layers import Dense, Dropout, LSTM\n",
        "from tensorflow.keras.models import Sequential"
      ],
      "execution_count": 2,
      "outputs": []
    },
    {
      "cell_type": "code",
      "metadata": {
        "id": "J66s5jWsyoCa"
      },
      "source": [
        "# for bitcoin ticker symbol: BTC\n",
        "cryptocurrency = 'BTC'\n",
        "price_in_usd = 'USD'"
      ],
      "execution_count": 5,
      "outputs": []
    },
    {
      "cell_type": "code",
      "metadata": {
        "id": "vMtP1XW0y0rD"
      },
      "source": [
        "starting_from = dt.datetime(2011,1,1)\n",
        "end = dt.datetime.now()"
      ],
      "execution_count": 6,
      "outputs": []
    },
    {
      "cell_type": "code",
      "metadata": {
        "id": "CGK8bjtV0-l-"
      },
      "source": [
        "df = web.DataReader(f'{cryptocurrency}-{price_in_usd}', 'yahoo', starting_from, end)"
      ],
      "execution_count": 8,
      "outputs": []
    },
    {
      "cell_type": "code",
      "metadata": {
        "colab": {
          "base_uri": "https://localhost:8080/",
          "height": 450
        },
        "id": "EzzxFHtC1x3F",
        "outputId": "708aa72e-0fee-4dc3-cc2e-6e21247a12e6"
      },
      "source": [
        "df"
      ],
      "execution_count": 9,
      "outputs": [
        {
          "output_type": "execute_result",
          "data": {
            "text/html": [
              "<div>\n",
              "<style scoped>\n",
              "    .dataframe tbody tr th:only-of-type {\n",
              "        vertical-align: middle;\n",
              "    }\n",
              "\n",
              "    .dataframe tbody tr th {\n",
              "        vertical-align: top;\n",
              "    }\n",
              "\n",
              "    .dataframe thead th {\n",
              "        text-align: right;\n",
              "    }\n",
              "</style>\n",
              "<table border=\"1\" class=\"dataframe\">\n",
              "  <thead>\n",
              "    <tr style=\"text-align: right;\">\n",
              "      <th></th>\n",
              "      <th>High</th>\n",
              "      <th>Low</th>\n",
              "      <th>Open</th>\n",
              "      <th>Close</th>\n",
              "      <th>Volume</th>\n",
              "      <th>Adj Close</th>\n",
              "    </tr>\n",
              "    <tr>\n",
              "      <th>Date</th>\n",
              "      <th></th>\n",
              "      <th></th>\n",
              "      <th></th>\n",
              "      <th></th>\n",
              "      <th></th>\n",
              "      <th></th>\n",
              "    </tr>\n",
              "  </thead>\n",
              "  <tbody>\n",
              "    <tr>\n",
              "      <th>2014-09-16</th>\n",
              "      <td>468.174011</td>\n",
              "      <td>452.421997</td>\n",
              "      <td>465.864014</td>\n",
              "      <td>457.334015</td>\n",
              "      <td>2.105680e+07</td>\n",
              "      <td>457.334015</td>\n",
              "    </tr>\n",
              "    <tr>\n",
              "      <th>2014-09-17</th>\n",
              "      <td>456.859985</td>\n",
              "      <td>413.104004</td>\n",
              "      <td>456.859985</td>\n",
              "      <td>424.440002</td>\n",
              "      <td>3.448320e+07</td>\n",
              "      <td>424.440002</td>\n",
              "    </tr>\n",
              "    <tr>\n",
              "      <th>2014-09-18</th>\n",
              "      <td>427.834991</td>\n",
              "      <td>384.532013</td>\n",
              "      <td>424.102997</td>\n",
              "      <td>394.795990</td>\n",
              "      <td>3.791970e+07</td>\n",
              "      <td>394.795990</td>\n",
              "    </tr>\n",
              "    <tr>\n",
              "      <th>2014-09-19</th>\n",
              "      <td>423.295990</td>\n",
              "      <td>389.882996</td>\n",
              "      <td>394.673004</td>\n",
              "      <td>408.903992</td>\n",
              "      <td>3.686360e+07</td>\n",
              "      <td>408.903992</td>\n",
              "    </tr>\n",
              "    <tr>\n",
              "      <th>2014-09-20</th>\n",
              "      <td>412.425995</td>\n",
              "      <td>393.181000</td>\n",
              "      <td>408.084991</td>\n",
              "      <td>398.821014</td>\n",
              "      <td>2.658010e+07</td>\n",
              "      <td>398.821014</td>\n",
              "    </tr>\n",
              "    <tr>\n",
              "      <th>...</th>\n",
              "      <td>...</td>\n",
              "      <td>...</td>\n",
              "      <td>...</td>\n",
              "      <td>...</td>\n",
              "      <td>...</td>\n",
              "      <td>...</td>\n",
              "    </tr>\n",
              "    <tr>\n",
              "      <th>2021-04-21</th>\n",
              "      <td>55410.230469</td>\n",
              "      <td>50583.812500</td>\n",
              "      <td>53857.105469</td>\n",
              "      <td>51762.273438</td>\n",
              "      <td>7.479863e+10</td>\n",
              "      <td>51762.273438</td>\n",
              "    </tr>\n",
              "    <tr>\n",
              "      <th>2021-04-22</th>\n",
              "      <td>52120.792969</td>\n",
              "      <td>47714.664062</td>\n",
              "      <td>51739.808594</td>\n",
              "      <td>51093.652344</td>\n",
              "      <td>8.666867e+10</td>\n",
              "      <td>51093.652344</td>\n",
              "    </tr>\n",
              "    <tr>\n",
              "      <th>2021-04-23</th>\n",
              "      <td>51167.562500</td>\n",
              "      <td>48805.285156</td>\n",
              "      <td>51143.226562</td>\n",
              "      <td>50050.867188</td>\n",
              "      <td>4.901449e+10</td>\n",
              "      <td>50050.867188</td>\n",
              "    </tr>\n",
              "    <tr>\n",
              "      <th>2021-04-24</th>\n",
              "      <td>50506.019531</td>\n",
              "      <td>47159.484375</td>\n",
              "      <td>50052.832031</td>\n",
              "      <td>49004.253906</td>\n",
              "      <td>4.611711e+10</td>\n",
              "      <td>49004.253906</td>\n",
              "    </tr>\n",
              "    <tr>\n",
              "      <th>2021-04-26</th>\n",
              "      <td>53473.253906</td>\n",
              "      <td>48956.652344</td>\n",
              "      <td>48956.652344</td>\n",
              "      <td>53221.335938</td>\n",
              "      <td>5.892108e+10</td>\n",
              "      <td>53221.335938</td>\n",
              "    </tr>\n",
              "  </tbody>\n",
              "</table>\n",
              "<p>2410 rows × 6 columns</p>\n",
              "</div>"
            ],
            "text/plain": [
              "                    High           Low  ...        Volume     Adj Close\n",
              "Date                                    ...                            \n",
              "2014-09-16    468.174011    452.421997  ...  2.105680e+07    457.334015\n",
              "2014-09-17    456.859985    413.104004  ...  3.448320e+07    424.440002\n",
              "2014-09-18    427.834991    384.532013  ...  3.791970e+07    394.795990\n",
              "2014-09-19    423.295990    389.882996  ...  3.686360e+07    408.903992\n",
              "2014-09-20    412.425995    393.181000  ...  2.658010e+07    398.821014\n",
              "...                  ...           ...  ...           ...           ...\n",
              "2021-04-21  55410.230469  50583.812500  ...  7.479863e+10  51762.273438\n",
              "2021-04-22  52120.792969  47714.664062  ...  8.666867e+10  51093.652344\n",
              "2021-04-23  51167.562500  48805.285156  ...  4.901449e+10  50050.867188\n",
              "2021-04-24  50506.019531  47159.484375  ...  4.611711e+10  49004.253906\n",
              "2021-04-26  53473.253906  48956.652344  ...  5.892108e+10  53221.335938\n",
              "\n",
              "[2410 rows x 6 columns]"
            ]
          },
          "metadata": {
            "tags": []
          },
          "execution_count": 9
        }
      ]
    },
    {
      "cell_type": "code",
      "metadata": {
        "id": "qgapjwY91zFZ"
      },
      "source": [
        ""
      ],
      "execution_count": null,
      "outputs": []
    }
  ]
}