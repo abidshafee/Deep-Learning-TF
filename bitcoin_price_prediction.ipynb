{
  "nbformat": 4,
  "nbformat_minor": 0,
  "metadata": {
    "colab": {
      "name": "bitcoin-price prediction.ipynb",
      "provenance": [],
      "collapsed_sections": [],
      "authorship_tag": "ABX9TyMCvoy7kHKWtMCVIWMeAs+l",
      "include_colab_link": true
    },
    "kernelspec": {
      "name": "python3",
      "display_name": "Python 3"
    },
    "language_info": {
      "name": "python"
    }
  },
  "cells": [
    {
      "cell_type": "markdown",
      "metadata": {
        "id": "view-in-github",
        "colab_type": "text"
      },
      "source": [
        "<a href=\"https://colab.research.google.com/github/abidshafee/Deep-Learning-TF/blob/main/bitcoin_price_prediction.ipynb\" target=\"_parent\"><img src=\"https://colab.research.google.com/assets/colab-badge.svg\" alt=\"Open In Colab\"/></a>"
      ]
    },
    {
      "cell_type": "markdown",
      "metadata": {
        "id": "qwfbV9FexI-s"
      },
      "source": [
        "Mocking: https://youtu.be/GFSiL6zEZF0 \\\n",
        "https://youtu.be/QIUxPv5PJOY"
      ]
    },
    {
      "cell_type": "code",
      "metadata": {
        "id": "tOmJU1LaxPTC"
      },
      "source": [
        "import numpy as np\n",
        "import matplotlib.pyplot as plt\n",
        "import pandas as pd\n",
        "import pandas_datareader as web\n",
        "import datetime as dt"
      ],
      "execution_count": null,
      "outputs": []
    },
    {
      "cell_type": "code",
      "metadata": {
        "id": "EIYHNIDAx5OY"
      },
      "source": [
        "# libraries for ML Modeling\n",
        "from sklearn.preprocessing import StandardScaler\n",
        "from tensorflow.keras.layers import Dense, Dropout, LSTM\n",
        "from tensorflow.keras.models import Sequential"
      ],
      "execution_count": null,
      "outputs": []
    },
    {
      "cell_type": "code",
      "metadata": {
        "id": "J66s5jWsyoCa"
      },
      "source": [
        "# for bitcoin ticker symbol: BTC\n",
        "cryptocurrency = 'BTC'\n",
        "price_in_usd = 'USD'"
      ],
      "execution_count": null,
      "outputs": []
    },
    {
      "cell_type": "code",
      "metadata": {
        "id": "vMtP1XW0y0rD",
        "colab": {
          "base_uri": "https://localhost:8080/"
        },
        "outputId": "6b1be80b-a95d-4f13-94ef-f56ea4ae61de"
      },
      "source": [
        "starting_from = dt.datetime(2011,1,1)\n",
        "end = dt.datetime.now()\n",
        "print(end)"
      ],
      "execution_count": null,
      "outputs": [
        {
          "output_type": "stream",
          "text": [
            "2021-04-26 12:09:19.010778\n"
          ],
          "name": "stdout"
        }
      ]
    },
    {
      "cell_type": "code",
      "metadata": {
        "id": "CGK8bjtV0-l-"
      },
      "source": [
        "# reading data from yahoo finance api\n",
        "#df = web.DataReader(f'{cryptocurrency}-{price_in_usd}', 'yahoo', starting_from, end)\n",
        "\n",
        "#Or we can say\n",
        "df = web.DataReader('BTC-USD', data_source='yahoo', start=starting_from, end=end)\n",
        "# ticker for BTC price in USD: BTC-USD"
      ],
      "execution_count": null,
      "outputs": []
    },
    {
      "cell_type": "code",
      "metadata": {
        "colab": {
          "base_uri": "https://localhost:8080/",
          "height": 450
        },
        "id": "EzzxFHtC1x3F",
        "outputId": "15676632-55c8-419d-df91-2cde7388bc64"
      },
      "source": [
        "df"
      ],
      "execution_count": null,
      "outputs": [
        {
          "output_type": "execute_result",
          "data": {
            "text/html": [
              "<div>\n",
              "<style scoped>\n",
              "    .dataframe tbody tr th:only-of-type {\n",
              "        vertical-align: middle;\n",
              "    }\n",
              "\n",
              "    .dataframe tbody tr th {\n",
              "        vertical-align: top;\n",
              "    }\n",
              "\n",
              "    .dataframe thead th {\n",
              "        text-align: right;\n",
              "    }\n",
              "</style>\n",
              "<table border=\"1\" class=\"dataframe\">\n",
              "  <thead>\n",
              "    <tr style=\"text-align: right;\">\n",
              "      <th></th>\n",
              "      <th>High</th>\n",
              "      <th>Low</th>\n",
              "      <th>Open</th>\n",
              "      <th>Close</th>\n",
              "      <th>Volume</th>\n",
              "      <th>Adj Close</th>\n",
              "    </tr>\n",
              "    <tr>\n",
              "      <th>Date</th>\n",
              "      <th></th>\n",
              "      <th></th>\n",
              "      <th></th>\n",
              "      <th></th>\n",
              "      <th></th>\n",
              "      <th></th>\n",
              "    </tr>\n",
              "  </thead>\n",
              "  <tbody>\n",
              "    <tr>\n",
              "      <th>2014-09-16</th>\n",
              "      <td>468.174011</td>\n",
              "      <td>452.421997</td>\n",
              "      <td>465.864014</td>\n",
              "      <td>457.334015</td>\n",
              "      <td>2.105680e+07</td>\n",
              "      <td>457.334015</td>\n",
              "    </tr>\n",
              "    <tr>\n",
              "      <th>2014-09-17</th>\n",
              "      <td>456.859985</td>\n",
              "      <td>413.104004</td>\n",
              "      <td>456.859985</td>\n",
              "      <td>424.440002</td>\n",
              "      <td>3.448320e+07</td>\n",
              "      <td>424.440002</td>\n",
              "    </tr>\n",
              "    <tr>\n",
              "      <th>2014-09-18</th>\n",
              "      <td>427.834991</td>\n",
              "      <td>384.532013</td>\n",
              "      <td>424.102997</td>\n",
              "      <td>394.795990</td>\n",
              "      <td>3.791970e+07</td>\n",
              "      <td>394.795990</td>\n",
              "    </tr>\n",
              "    <tr>\n",
              "      <th>2014-09-19</th>\n",
              "      <td>423.295990</td>\n",
              "      <td>389.882996</td>\n",
              "      <td>394.673004</td>\n",
              "      <td>408.903992</td>\n",
              "      <td>3.686360e+07</td>\n",
              "      <td>408.903992</td>\n",
              "    </tr>\n",
              "    <tr>\n",
              "      <th>2014-09-20</th>\n",
              "      <td>412.425995</td>\n",
              "      <td>393.181000</td>\n",
              "      <td>408.084991</td>\n",
              "      <td>398.821014</td>\n",
              "      <td>2.658010e+07</td>\n",
              "      <td>398.821014</td>\n",
              "    </tr>\n",
              "    <tr>\n",
              "      <th>...</th>\n",
              "      <td>...</td>\n",
              "      <td>...</td>\n",
              "      <td>...</td>\n",
              "      <td>...</td>\n",
              "      <td>...</td>\n",
              "      <td>...</td>\n",
              "    </tr>\n",
              "    <tr>\n",
              "      <th>2021-04-21</th>\n",
              "      <td>55410.230469</td>\n",
              "      <td>50583.812500</td>\n",
              "      <td>53857.105469</td>\n",
              "      <td>51762.273438</td>\n",
              "      <td>7.479863e+10</td>\n",
              "      <td>51762.273438</td>\n",
              "    </tr>\n",
              "    <tr>\n",
              "      <th>2021-04-22</th>\n",
              "      <td>52120.792969</td>\n",
              "      <td>47714.664062</td>\n",
              "      <td>51739.808594</td>\n",
              "      <td>51093.652344</td>\n",
              "      <td>8.666867e+10</td>\n",
              "      <td>51093.652344</td>\n",
              "    </tr>\n",
              "    <tr>\n",
              "      <th>2021-04-23</th>\n",
              "      <td>51167.562500</td>\n",
              "      <td>48805.285156</td>\n",
              "      <td>51143.226562</td>\n",
              "      <td>50050.867188</td>\n",
              "      <td>4.901449e+10</td>\n",
              "      <td>50050.867188</td>\n",
              "    </tr>\n",
              "    <tr>\n",
              "      <th>2021-04-24</th>\n",
              "      <td>50506.019531</td>\n",
              "      <td>47159.484375</td>\n",
              "      <td>50052.832031</td>\n",
              "      <td>49004.253906</td>\n",
              "      <td>4.611711e+10</td>\n",
              "      <td>49004.253906</td>\n",
              "    </tr>\n",
              "    <tr>\n",
              "      <th>2021-04-26</th>\n",
              "      <td>53764.992188</td>\n",
              "      <td>48956.652344</td>\n",
              "      <td>48956.652344</td>\n",
              "      <td>53641.273438</td>\n",
              "      <td>5.973888e+10</td>\n",
              "      <td>53641.273438</td>\n",
              "    </tr>\n",
              "  </tbody>\n",
              "</table>\n",
              "<p>2410 rows × 6 columns</p>\n",
              "</div>"
            ],
            "text/plain": [
              "                    High           Low  ...        Volume     Adj Close\n",
              "Date                                    ...                            \n",
              "2014-09-16    468.174011    452.421997  ...  2.105680e+07    457.334015\n",
              "2014-09-17    456.859985    413.104004  ...  3.448320e+07    424.440002\n",
              "2014-09-18    427.834991    384.532013  ...  3.791970e+07    394.795990\n",
              "2014-09-19    423.295990    389.882996  ...  3.686360e+07    408.903992\n",
              "2014-09-20    412.425995    393.181000  ...  2.658010e+07    398.821014\n",
              "...                  ...           ...  ...           ...           ...\n",
              "2021-04-21  55410.230469  50583.812500  ...  7.479863e+10  51762.273438\n",
              "2021-04-22  52120.792969  47714.664062  ...  8.666867e+10  51093.652344\n",
              "2021-04-23  51167.562500  48805.285156  ...  4.901449e+10  50050.867188\n",
              "2021-04-24  50506.019531  47159.484375  ...  4.611711e+10  49004.253906\n",
              "2021-04-26  53764.992188  48956.652344  ...  5.973888e+10  53641.273438\n",
              "\n",
              "[2410 rows x 6 columns]"
            ]
          },
          "metadata": {
            "tags": []
          },
          "execution_count": 68
        }
      ]
    },
    {
      "cell_type": "markdown",
      "metadata": {
        "id": "cocQDhxL3sb9"
      },
      "source": [
        "We are going to predict the **closing price** of this dataset"
      ]
    },
    {
      "cell_type": "code",
      "metadata": {
        "colab": {
          "base_uri": "https://localhost:8080/",
          "height": 297
        },
        "id": "qgapjwY91zFZ",
        "outputId": "38efc01a-ee92-4ec4-e771-44176fac18eb"
      },
      "source": [
        "df.describe(include='all')"
      ],
      "execution_count": null,
      "outputs": [
        {
          "output_type": "execute_result",
          "data": {
            "text/html": [
              "<div>\n",
              "<style scoped>\n",
              "    .dataframe tbody tr th:only-of-type {\n",
              "        vertical-align: middle;\n",
              "    }\n",
              "\n",
              "    .dataframe tbody tr th {\n",
              "        vertical-align: top;\n",
              "    }\n",
              "\n",
              "    .dataframe thead th {\n",
              "        text-align: right;\n",
              "    }\n",
              "</style>\n",
              "<table border=\"1\" class=\"dataframe\">\n",
              "  <thead>\n",
              "    <tr style=\"text-align: right;\">\n",
              "      <th></th>\n",
              "      <th>High</th>\n",
              "      <th>Low</th>\n",
              "      <th>Open</th>\n",
              "      <th>Close</th>\n",
              "      <th>Volume</th>\n",
              "      <th>Adj Close</th>\n",
              "    </tr>\n",
              "  </thead>\n",
              "  <tbody>\n",
              "    <tr>\n",
              "      <th>count</th>\n",
              "      <td>2410.000000</td>\n",
              "      <td>2410.000000</td>\n",
              "      <td>2410.000000</td>\n",
              "      <td>2410.000000</td>\n",
              "      <td>2.410000e+03</td>\n",
              "      <td>2410.000000</td>\n",
              "    </tr>\n",
              "    <tr>\n",
              "      <th>mean</th>\n",
              "      <td>7174.305270</td>\n",
              "      <td>6775.281155</td>\n",
              "      <td>6979.358760</td>\n",
              "      <td>7000.390849</td>\n",
              "      <td>1.185029e+10</td>\n",
              "      <td>7000.390849</td>\n",
              "    </tr>\n",
              "    <tr>\n",
              "      <th>std</th>\n",
              "      <td>10880.652543</td>\n",
              "      <td>10193.510295</td>\n",
              "      <td>10553.179678</td>\n",
              "      <td>10593.129966</td>\n",
              "      <td>1.880578e+10</td>\n",
              "      <td>10593.129966</td>\n",
              "    </tr>\n",
              "    <tr>\n",
              "      <th>min</th>\n",
              "      <td>211.731003</td>\n",
              "      <td>171.509995</td>\n",
              "      <td>176.897003</td>\n",
              "      <td>178.102997</td>\n",
              "      <td>5.914570e+06</td>\n",
              "      <td>178.102997</td>\n",
              "    </tr>\n",
              "    <tr>\n",
              "      <th>25%</th>\n",
              "      <td>460.849991</td>\n",
              "      <td>451.166763</td>\n",
              "      <td>455.775002</td>\n",
              "      <td>455.670258</td>\n",
              "      <td>6.778000e+07</td>\n",
              "      <td>455.670258</td>\n",
              "    </tr>\n",
              "    <tr>\n",
              "      <th>50%</th>\n",
              "      <td>4258.724854</td>\n",
              "      <td>4022.102661</td>\n",
              "      <td>4135.651855</td>\n",
              "      <td>4141.202393</td>\n",
              "      <td>3.820230e+09</td>\n",
              "      <td>4141.202393</td>\n",
              "    </tr>\n",
              "    <tr>\n",
              "      <th>75%</th>\n",
              "      <td>9212.655518</td>\n",
              "      <td>8804.000732</td>\n",
              "      <td>8987.596436</td>\n",
              "      <td>9000.924805</td>\n",
              "      <td>1.785064e+10</td>\n",
              "      <td>9000.924805</td>\n",
              "    </tr>\n",
              "    <tr>\n",
              "      <th>max</th>\n",
              "      <td>64863.097656</td>\n",
              "      <td>62208.964844</td>\n",
              "      <td>63523.753906</td>\n",
              "      <td>63503.457031</td>\n",
              "      <td>3.509679e+11</td>\n",
              "      <td>63503.457031</td>\n",
              "    </tr>\n",
              "  </tbody>\n",
              "</table>\n",
              "</div>"
            ],
            "text/plain": [
              "               High           Low  ...        Volume     Adj Close\n",
              "count   2410.000000   2410.000000  ...  2.410000e+03   2410.000000\n",
              "mean    7174.305270   6775.281155  ...  1.185029e+10   7000.390849\n",
              "std    10880.652543  10193.510295  ...  1.880578e+10  10593.129966\n",
              "min      211.731003    171.509995  ...  5.914570e+06    178.102997\n",
              "25%      460.849991    451.166763  ...  6.778000e+07    455.670258\n",
              "50%     4258.724854   4022.102661  ...  3.820230e+09   4141.202393\n",
              "75%     9212.655518   8804.000732  ...  1.785064e+10   9000.924805\n",
              "max    64863.097656  62208.964844  ...  3.509679e+11  63503.457031\n",
              "\n",
              "[8 rows x 6 columns]"
            ]
          },
          "metadata": {
            "tags": []
          },
          "execution_count": 69
        }
      ]
    },
    {
      "cell_type": "markdown",
      "metadata": {
        "id": "LcJ-Nyp04bXR"
      },
      "source": [
        "Scaling data into sandard deviation range"
      ]
    },
    {
      "cell_type": "code",
      "metadata": {
        "colab": {
          "base_uri": "https://localhost:8080/"
        },
        "id": "78oUYBMl5JPe",
        "outputId": "1a228e97-21bb-43e8-8cf7-5e063f1c8c2b"
      },
      "source": [
        "df['Close']"
      ],
      "execution_count": null,
      "outputs": [
        {
          "output_type": "execute_result",
          "data": {
            "text/plain": [
              "Date\n",
              "2014-09-16      457.334015\n",
              "2014-09-17      424.440002\n",
              "2014-09-18      394.795990\n",
              "2014-09-19      408.903992\n",
              "2014-09-20      398.821014\n",
              "                  ...     \n",
              "2021-04-21    51762.273438\n",
              "2021-04-22    51093.652344\n",
              "2021-04-23    50050.867188\n",
              "2021-04-24    49004.253906\n",
              "2021-04-26    53641.273438\n",
              "Name: Close, Length: 2410, dtype: float64"
            ]
          },
          "metadata": {
            "tags": []
          },
          "execution_count": 70
        }
      ]
    },
    {
      "cell_type": "code",
      "metadata": {
        "id": "J4TSL-wA208O"
      },
      "source": [
        "scale = StandardScaler()\n",
        "#Reshape your data either using array.reshape(-1, 1) if your data has a single feature or array.\n",
        "#reshape(1, -1) if it contains a single sample.\n",
        "scaled_data = scale.fit_transform(df['Close'].values.reshape(-1,1))"
      ],
      "execution_count": null,
      "outputs": []
    },
    {
      "cell_type": "code",
      "metadata": {
        "colab": {
          "base_uri": "https://localhost:8080/"
        },
        "id": "2hvDZKCC4xdO",
        "outputId": "aadc7201-11c7-4f87-8e94-a3dec466a870"
      },
      "source": [
        "len(scaled_data)"
      ],
      "execution_count": null,
      "outputs": [
        {
          "output_type": "execute_result",
          "data": {
            "text/plain": [
              "2410"
            ]
          },
          "metadata": {
            "tags": []
          },
          "execution_count": 76
        }
      ]
    },
    {
      "cell_type": "code",
      "metadata": {
        "id": "HtT-B2L95hUc",
        "colab": {
          "base_uri": "https://localhost:8080/"
        },
        "outputId": "4a7e8b0f-5b50-4df2-d568-99246488df9f"
      },
      "source": [
        "scaled_data"
      ],
      "execution_count": null,
      "outputs": [
        {
          "output_type": "execute_result",
          "data": {
            "text/plain": [
              "array([[-0.61779802],\n",
              "       [-0.62090389],\n",
              "       [-0.62370289],\n",
              "       ...,\n",
              "       [ 4.06484305],\n",
              "       [ 3.96602141],\n",
              "       [ 4.40385064]])"
            ]
          },
          "metadata": {
            "tags": []
          },
          "execution_count": 77
        }
      ]
    },
    {
      "cell_type": "markdown",
      "metadata": {
        "id": "Glhq6I9YFC52"
      },
      "source": [
        "## **To replace multiple values in a column with single values**:\n",
        "let say we want to replace value-1, value-2, and value-3 from the column-3 with the value: 'replaced_value', So the following code will do that:\n",
        "```\n",
        "values = ['value-1', 'value-2', 'value-3']\n",
        "for val in values:\n",
        "    df['column-3'].replace(to_replace=val,\n",
        "                           value = 'replaced_value',\n",
        "                           inplace = True)\n",
        "\n",
        "```\n",
        "To learn more data analysis techniques read our blog:\n",
        "https://csschoolonline.xyz/data-science/\n",
        "see other parameters supported by -\n",
        "pandas.DataFrame.replace>>\n",
        "https://pandas.pydata.org/.../pandas.DataFrame.replace.html"
      ]
    },
    {
      "cell_type": "code",
      "metadata": {
        "id": "Q3rOSXcvFeI4"
      },
      "source": [
        ""
      ],
      "execution_count": null,
      "outputs": []
    }
  ]
}